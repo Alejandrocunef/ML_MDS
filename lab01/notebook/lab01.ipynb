{
 "cells": [
  {
   "cell_type": "markdown",
   "metadata": {},
   "source": [
    "# Conceptos básicos: regresión logística y descenso del gradiente en Python "
   ]
  },
  {
   "cell_type": "markdown",
   "metadata": {},
   "source": [
    "__Valentina Díaz Torres__\n",
    "\n",
    "\n",
    "__Machine Learning-MDS__"
   ]
  },
  {
   "cell_type": "markdown",
   "metadata": {},
   "source": [
    "## Introducción"
   ]
  },
  {
   "cell_type": "markdown",
   "metadata": {},
   "source": [
    "El objetivo de esta práctica es calcular el descenso del gradiente, aplicándolo a una base de datos sobre notas, compuesta por tres columnas, donde las dos primeras son notas uno y dos y la tercera muestra un resultado binario, que indica si estas están aprobadas o no.\n",
    "\n",
    "El descenso del gradiente es usado en técnicas de Machine Learning, tales como deeplearning para entrenar redes neuronales. En esto se  tienen en cuenta el error cuadrático medio, aplicado a la medición del error del modelo de aprendizaje automático en problemas de regresión. Pero también la función de coste a optimizar.\n",
    "\n",
    "Pero entonces ¿qué es el gradiente?, es el conjunto de las derivadas parciales de la función de coste, que es aquella, que anteriormente dijimos que era el objetivo a optimizar en este caso. Esta optimización se hace mediante el descenso del gradiente, que encuentra los mejores coeficientes para minimizar la función de coste."
   ]
  },
  {
   "cell_type": "markdown",
   "metadata": {},
   "source": [
    "## Librerías"
   ]
  },
  {
   "cell_type": "code",
   "execution_count": 110,
   "metadata": {},
   "outputs": [],
   "source": [
    "import pandas as pd\n",
    "import numpy as np\n",
    "import seaborn as sns\n",
    "import matplotlib.pyplot as plt\n",
    "plt.style.use(\"ggplot\")\n",
    "%matplotlib inline"
   ]
  },
  {
   "cell_type": "markdown",
   "metadata": {},
   "source": [
    "## Carga de datos"
   ]
  },
  {
   "cell_type": "code",
   "execution_count": 111,
   "metadata": {},
   "outputs": [],
   "source": [
    "data = pd.read_csv(\"./data/4_1_data.csv\")"
   ]
  },
  {
   "cell_type": "code",
   "execution_count": 112,
   "metadata": {},
   "outputs": [
    {
     "data": {
      "text/plain": [
       "'C:\\\\Users\\\\ajrd9\\\\Desktop\\\\pracML'"
      ]
     },
     "execution_count": 112,
     "metadata": {},
     "output_type": "execute_result"
    }
   ],
   "source": [
    "pwd #comprobar que estaba en la ruta del directorio correcto"
   ]
  },
  {
   "cell_type": "markdown",
   "metadata": {},
   "source": [
    "## EDA y visualización de datos"
   ]
  },
  {
   "cell_type": "code",
   "execution_count": 113,
   "metadata": {},
   "outputs": [
    {
     "data": {
      "text/plain": [
       "(     score-1    score-2  label\n",
       " 0  34.623660  78.024693      0\n",
       " 1  30.286711  43.894998      0\n",
       " 2  35.847409  72.902198      0\n",
       " 3  60.182599  86.308552      1\n",
       " 4  79.032736  75.344376      1,\n",
       "       score-1    score-2  label\n",
       " 95  83.489163  48.380286      1\n",
       " 96  42.261701  87.103851      1\n",
       " 97  99.315009  68.775409      1\n",
       " 98  55.340018  64.931938      1\n",
       " 99  74.775893  89.529813      1)"
      ]
     },
     "execution_count": 113,
     "metadata": {},
     "output_type": "execute_result"
    }
   ],
   "source": [
    "data.head(), data.tail() #comprobar las 5 primeras y últimas filas"
   ]
  },
  {
   "cell_type": "code",
   "execution_count": 114,
   "metadata": {},
   "outputs": [
    {
     "data": {
      "text/plain": [
       "300"
      ]
     },
     "execution_count": 114,
     "metadata": {},
     "output_type": "execute_result"
    }
   ],
   "source": [
    "data.size  #el data set se compone de un total de 300 variables"
   ]
  },
  {
   "cell_type": "code",
   "execution_count": 115,
   "metadata": {},
   "outputs": [
    {
     "data": {
      "text/plain": [
       "(100, 3)"
      ]
     },
     "execution_count": 115,
     "metadata": {},
     "output_type": "execute_result"
    }
   ],
   "source": [
    "data.shape #el data set se compone de 100 filas y 3 columnas"
   ]
  },
  {
   "cell_type": "code",
   "execution_count": 116,
   "metadata": {},
   "outputs": [
    {
     "data": {
      "text/html": [
       "<div>\n",
       "<style scoped>\n",
       "    .dataframe tbody tr th:only-of-type {\n",
       "        vertical-align: middle;\n",
       "    }\n",
       "\n",
       "    .dataframe tbody tr th {\n",
       "        vertical-align: top;\n",
       "    }\n",
       "\n",
       "    .dataframe thead th {\n",
       "        text-align: right;\n",
       "    }\n",
       "</style>\n",
       "<table border=\"1\" class=\"dataframe\">\n",
       "  <thead>\n",
       "    <tr style=\"text-align: right;\">\n",
       "      <th></th>\n",
       "      <th>score-1</th>\n",
       "      <th>score-2</th>\n",
       "      <th>label</th>\n",
       "    </tr>\n",
       "  </thead>\n",
       "  <tbody>\n",
       "    <tr>\n",
       "      <th>count</th>\n",
       "      <td>100.000000</td>\n",
       "      <td>100.000000</td>\n",
       "      <td>100.000000</td>\n",
       "    </tr>\n",
       "    <tr>\n",
       "      <th>mean</th>\n",
       "      <td>65.644274</td>\n",
       "      <td>66.221998</td>\n",
       "      <td>0.600000</td>\n",
       "    </tr>\n",
       "    <tr>\n",
       "      <th>std</th>\n",
       "      <td>19.458222</td>\n",
       "      <td>18.582783</td>\n",
       "      <td>0.492366</td>\n",
       "    </tr>\n",
       "    <tr>\n",
       "      <th>min</th>\n",
       "      <td>30.058822</td>\n",
       "      <td>30.603263</td>\n",
       "      <td>0.000000</td>\n",
       "    </tr>\n",
       "    <tr>\n",
       "      <th>25%</th>\n",
       "      <td>50.919511</td>\n",
       "      <td>48.179205</td>\n",
       "      <td>0.000000</td>\n",
       "    </tr>\n",
       "    <tr>\n",
       "      <th>50%</th>\n",
       "      <td>67.032988</td>\n",
       "      <td>67.682381</td>\n",
       "      <td>1.000000</td>\n",
       "    </tr>\n",
       "    <tr>\n",
       "      <th>75%</th>\n",
       "      <td>80.212529</td>\n",
       "      <td>79.360605</td>\n",
       "      <td>1.000000</td>\n",
       "    </tr>\n",
       "    <tr>\n",
       "      <th>max</th>\n",
       "      <td>99.827858</td>\n",
       "      <td>98.869436</td>\n",
       "      <td>1.000000</td>\n",
       "    </tr>\n",
       "  </tbody>\n",
       "</table>\n",
       "</div>"
      ],
      "text/plain": [
       "          score-1     score-2       label\n",
       "count  100.000000  100.000000  100.000000\n",
       "mean    65.644274   66.221998    0.600000\n",
       "std     19.458222   18.582783    0.492366\n",
       "min     30.058822   30.603263    0.000000\n",
       "25%     50.919511   48.179205    0.000000\n",
       "50%     67.032988   67.682381    1.000000\n",
       "75%     80.212529   79.360605    1.000000\n",
       "max     99.827858   98.869436    1.000000"
      ]
     },
     "execution_count": 116,
     "metadata": {},
     "output_type": "execute_result"
    }
   ],
   "source": [
    "data.describe() # algunos valores estadísticos"
   ]
  },
  {
   "cell_type": "code",
   "execution_count": 117,
   "metadata": {},
   "outputs": [
    {
     "data": {
      "text/plain": [
       "<bound method DataFrame.info of       score-1    score-2  label\n",
       "0   34.623660  78.024693      0\n",
       "1   30.286711  43.894998      0\n",
       "2   35.847409  72.902198      0\n",
       "3   60.182599  86.308552      1\n",
       "4   79.032736  75.344376      1\n",
       "..        ...        ...    ...\n",
       "95  83.489163  48.380286      1\n",
       "96  42.261701  87.103851      1\n",
       "97  99.315009  68.775409      1\n",
       "98  55.340018  64.931938      1\n",
       "99  74.775893  89.529813      1\n",
       "\n",
       "[100 rows x 3 columns]>"
      ]
     },
     "execution_count": 117,
     "metadata": {},
     "output_type": "execute_result"
    }
   ],
   "source": [
    "data.info"
   ]
  },
  {
   "cell_type": "code",
   "execution_count": 118,
   "metadata": {},
   "outputs": [
    {
     "data": {
      "text/html": [
       "<div>\n",
       "<style scoped>\n",
       "    .dataframe tbody tr th:only-of-type {\n",
       "        vertical-align: middle;\n",
       "    }\n",
       "\n",
       "    .dataframe tbody tr th {\n",
       "        vertical-align: top;\n",
       "    }\n",
       "\n",
       "    .dataframe thead th {\n",
       "        text-align: right;\n",
       "    }\n",
       "</style>\n",
       "<table border=\"1\" class=\"dataframe\">\n",
       "  <thead>\n",
       "    <tr style=\"text-align: right;\">\n",
       "      <th></th>\n",
       "      <th>score-1</th>\n",
       "      <th>score-2</th>\n",
       "      <th>label</th>\n",
       "    </tr>\n",
       "  </thead>\n",
       "  <tbody>\n",
       "    <tr>\n",
       "      <th>0</th>\n",
       "      <td>False</td>\n",
       "      <td>False</td>\n",
       "      <td>False</td>\n",
       "    </tr>\n",
       "    <tr>\n",
       "      <th>1</th>\n",
       "      <td>False</td>\n",
       "      <td>False</td>\n",
       "      <td>False</td>\n",
       "    </tr>\n",
       "    <tr>\n",
       "      <th>2</th>\n",
       "      <td>False</td>\n",
       "      <td>False</td>\n",
       "      <td>False</td>\n",
       "    </tr>\n",
       "    <tr>\n",
       "      <th>3</th>\n",
       "      <td>False</td>\n",
       "      <td>False</td>\n",
       "      <td>False</td>\n",
       "    </tr>\n",
       "    <tr>\n",
       "      <th>4</th>\n",
       "      <td>False</td>\n",
       "      <td>False</td>\n",
       "      <td>False</td>\n",
       "    </tr>\n",
       "    <tr>\n",
       "      <th>...</th>\n",
       "      <td>...</td>\n",
       "      <td>...</td>\n",
       "      <td>...</td>\n",
       "    </tr>\n",
       "    <tr>\n",
       "      <th>95</th>\n",
       "      <td>False</td>\n",
       "      <td>False</td>\n",
       "      <td>False</td>\n",
       "    </tr>\n",
       "    <tr>\n",
       "      <th>96</th>\n",
       "      <td>False</td>\n",
       "      <td>False</td>\n",
       "      <td>False</td>\n",
       "    </tr>\n",
       "    <tr>\n",
       "      <th>97</th>\n",
       "      <td>False</td>\n",
       "      <td>False</td>\n",
       "      <td>False</td>\n",
       "    </tr>\n",
       "    <tr>\n",
       "      <th>98</th>\n",
       "      <td>False</td>\n",
       "      <td>False</td>\n",
       "      <td>False</td>\n",
       "    </tr>\n",
       "    <tr>\n",
       "      <th>99</th>\n",
       "      <td>False</td>\n",
       "      <td>False</td>\n",
       "      <td>False</td>\n",
       "    </tr>\n",
       "  </tbody>\n",
       "</table>\n",
       "<p>100 rows × 3 columns</p>\n",
       "</div>"
      ],
      "text/plain": [
       "    score-1  score-2  label\n",
       "0     False    False  False\n",
       "1     False    False  False\n",
       "2     False    False  False\n",
       "3     False    False  False\n",
       "4     False    False  False\n",
       "..      ...      ...    ...\n",
       "95    False    False  False\n",
       "96    False    False  False\n",
       "97    False    False  False\n",
       "98    False    False  False\n",
       "99    False    False  False\n",
       "\n",
       "[100 rows x 3 columns]"
      ]
     },
     "execution_count": 118,
     "metadata": {},
     "output_type": "execute_result"
    }
   ],
   "source": [
    "data.isnull() #comprobamos que no hay ningún valor nulo"
   ]
  },
  {
   "cell_type": "code",
   "execution_count": 119,
   "metadata": {},
   "outputs": [],
   "source": [
    "scores = data[['score-1', 'score-2']].values #introducir los valores de score-1 y score-2, dentro del objeto scores\n",
    "results = data['label'].values #el objeto results pasa a estar formado por los valores de label\n",
    "#de este modo hemos creado dos objetos con los que podemos trabajar, que recogen todos los valores\n"
   ]
  },
  {
   "cell_type": "code",
   "execution_count": 120,
   "metadata": {},
   "outputs": [],
   "source": [
    "passed = (results == 1).reshape(100, 1) #Almacenamos en la variable passed el nuevo array formado por todos los elementos de label que sean igual a 1, haciendo referencia a que estos serán los aprobados\n",
    "failed = (results == 0).reshape(100, 1) #Almacenamos en la variable passed el nuevo array formado por todos los elementos de label que sean igual a 0, en este caso, estos serán los suspensos\n"
   ]
  },
  {
   "cell_type": "code",
   "execution_count": 121,
   "metadata": {
    "scrolled": true
   },
   "outputs": [
    {
     "data": {
      "image/png": "[encoded data removed]",
      "text/plain": [
       "<Figure size 432x288 with 1 Axes>"
      ]
     },
     "metadata": {
      "needs_background": "light"
     },
     "output_type": "display_data"
    }
   ],
   "source": [
    "#Creación del gráfico para failed, mostrado en la gráfica con \"+\", en verd\n",
    "#uso de la librería seaborn y matplotlib para el gráfico\n",
    "ax = sns.scatterplot(x = scores[passed[:, 0], 0], #Seleccionamos los valores d de la columna score-1, todas las filas, desde la posición 0 hasta el final del array, de los que sean =1, es decir passed, anteriormente recogidos en scores.\n",
    "                     y = scores[passed[:, 0], 1], #Seleccionamos los valores de la columna score-2, todas las filas, desde la posición 0 hasta el final del array.\n",
    "                     marker = \"+\",\n",
    "                     color = \"green\",\n",
    "                     s = 60)\n",
    "#Creación del gráfico para failed, mostrado en la gráfica con \"x\", en rojo\n",
    "sns.scatterplot(x = scores[failed[:, 0], 0], #se seleccionan los valores igual que arriba, desde la posición 0, primero para la primera columna y luego para la segunda, pero ahora de los valores de failed\n",
    "                y = scores[failed[:, 0], 1],\n",
    "                marker = \"X\",\n",
    "                color = \"red\",\n",
    "                s = 60)\n",
    "\n",
    "ax.set(xlabel=\"Scores-1\", ylabel=\"Scores-2\") #asignamos los nombres para las etiquetas de x e y\n",
    "ax.legend([\"Passed\", \"Failed\"])#los nombres que se le atribuyen a la leyenda, aprobado y suspenso, que son lso valores representados.\n",
    "#finalmente se reprensenta el gráfico con todo lo añadido anteriormente en conjunto.\n",
    "plt.show(); "
   ]
  },
  {
   "cell_type": "markdown",
   "metadata": {},
   "source": [
    "## Definición de la función sigmoide"
   ]
  },
  {
   "cell_type": "code",
   "execution_count": 122,
   "metadata": {},
   "outputs": [
    {
     "data": {
      "text/plain": [
       "0.7310585786300049"
      ]
     },
     "execution_count": 122,
     "metadata": {},
     "output_type": "execute_result"
    }
   ],
   "source": [
    "def logistic_function(x): #Definimos el método correspondiente a la función sigmoide  \n",
    "    return 1/ (1 + np.exp(-x)) #introducción de la fórmula adjuntada\n",
    "\n",
    "logistic_function(0) #comprobar el resultado cuando es 0\n",
    "logistic_function(1) #comprobar el resultado cuando es 1\n",
    "#la función sigmoide está acotada entre 0 y 1"
   ]
  },
  {
   "cell_type": "markdown",
   "metadata": {},
   "source": [
    "<img src = \"https://www.diegocalvo.es/wp-content/uploads/2018/12/funcion-sigmoide.png\" align=\"center\" width=\"140\">"
   ]
  },
  {
   "cell_type": "markdown",
   "metadata": {},
   "source": [
    "## Computación de la función de coste y gradiente"
   ]
  },
  {
   "cell_type": "markdown",
   "metadata": {},
   "source": [
    "El objetivo de esta función de regresión logística es minimizar la función de costes. Se hará uso de las siguientes fórmulas, siendo la primera la de la función de costes y la segunda la del gradiente."
   ]
  },
  {
   "cell_type": "markdown",
   "metadata": {},
   "source": [
    "$$J(\\theta) = -\\frac{1}{m} \\sum_{i=1}^{m} [ y^{(i)}log(h_{\\theta}(x^{(i)})) + (1 - y^{(i)})log(1 - (h_{\\theta}(x^{(i)}))]$$\n",
    "\n",
    "\n",
    "\n",
    "\n",
    "\n",
    "$$ \\frac{\\partial J(\\theta)}{\\partial \\theta_j} = \\frac{1}{m} \\sum_{i=1}^{m} (h_{\\theta}(x^{(i)}) - y^{(i)})x_j^{(i)}$$"
   ]
  },
  {
   "cell_type": "code",
   "execution_count": 123,
   "metadata": {},
   "outputs": [],
   "source": [
    "def compute_cost(theta, x, y): #se define la función de coste, con theta, que es un array de np, del cual coge x e y .\n",
    "    m = len(y) #m es definida con la longitud de y\n",
    "    y_pred = logistic_function(np.dot(x , theta)) #np.dot devuelve el producto entre dos arrays. Por lo tanto, hace el producto entre x y theta y al resultado le aplica la función logística\n",
    "    error = (y * np.log(y_pred)) + ((1 - y) * np.log(1 - y_pred)) #el error queda calculado como el producto de y por el logaritmo de y_pre, calculado antes+\n",
    "    #el producto de 1-y por el logaritmo de 1-y_pred. Con esto quedaría calculado el error para la función de coste.\n",
    "    cost = -1 / m * sum(error) #el coste se calcual con la fórmula de -1 entre m por la suma del error\n",
    "    gradient = 1 / m * np.dot(x.transpose(), (y_pred - y)) #aquí se calcula el gradiente\n",
    "    return cost[0] , gradient #Devuelve el valor de coste para la posición 0 y el gradiente."
   ]
  },
  {
   "cell_type": "markdown",
   "metadata": {},
   "source": [
    "## Inicialización  del coste y el gradiente"
   ]
  },
  {
   "cell_type": "code",
   "execution_count": 124,
   "metadata": {},
   "outputs": [
    {
     "name": "stdout",
     "output_type": "stream",
     "text": [
      "Cost init: 0.6931\n",
      "Gradient init: [[-0.1       ]\n",
      " [-0.28122914]\n",
      " [-0.25098615]]\n"
     ]
    }
   ],
   "source": [
    "mean_scores = np.mean(scores, axis=0) #Calcula la media del array scores para el eje X\n",
    "std_scores = np.std(scores, axis=0) #Calcula la desviación típica del array scores para el eje X\n",
    "scores = (scores - mean_scores) / std_scores #Recoge en score la división entre scores menos su media, y la desviación típica\n",
    "\n",
    "rows = scores.shape[0] #decimos que las filas son igual a la primera posición, o posición 0 de la \"forma\" de scores\n",
    "cols = scores.shape[1] #las columnas son igual a la posición uno del resultado que devuelve shape\n",
    "#si queremos comprobar qué contiene rows y cols encontraremos que efectivamente hay 100 rows y 2 col, por lo que se han\n",
    "#creado un objeto de ambas para poder trabajar con rllas y aplicarlas a la fórmula\n",
    "\n",
    "X = np.append(np.ones((rows, 1)), scores, axis=1) #Con la función append() introducimos nuevos valores en el array,\n",
    "#mediante la función ones, nos devuelve un array de 100 filas (rows) y del tipo 1, utilizado anteriormente en el\n",
    "#método shape, creando así el nuevo array scores para el eje Y.\n",
    "y = results.reshape(rows, 1) #Almacenamos en y el nuevo formato para la columna results, siendo este de 100 filas del tipo 1\n",
    "\n",
    "theta_init = np.zeros((cols + 1, 1)) #Con la función zeros() devuelve un array inicializado a 0 compuesto por columnas del tipo 1\n",
    "\n",
    "cost, gradient = compute_cost(theta_init, X, y) #Almacena en cost y  gradient el resultado de aplicar el método\n",
    "#compute_cost, pasándole por parámetro los valores theta_init, X e y. Por lo tanto, se le atribuyen nuevos valores a los parametros\n",
    "#theta, x e y que habíamos definido en la función de coste. Cuando se ejecute, cost, pasaría a tomar el valor de cost de la función \n",
    "#de coste y lo mismo pasaría con gradient\n",
    "\n",
    "print(\"Cost init:\", round(cost,4)) #el valor del coste inicializado obtenido ha sido de 0.6931\n",
    "print(\"Gradient init:\", gradient)  #Muestra por pantalla el resultado del gradiente inicializado\n",
    "\n"
   ]
  },
  {
   "cell_type": "markdown",
   "metadata": {},
   "source": [
    "## Descenso del Gradiente"
   ]
  },
  {
   "cell_type": "code",
   "execution_count": 125,
   "metadata": {},
   "outputs": [],
   "source": [
    "def gradient_descent(x, y, theta, alpha, iterations): #Definimos la función para calcular el descenso del gradiente, pásandole por parámetro todos los valores necesarios \n",
    "    costs = [] #Inicializamos el array costs sin valores en su interior\n",
    "    for i in range(iterations): #Realizamos un bucle for para hacer un recorrido de todas las iteraciones que son recibidas por párametro\n",
    "        cost, gradient = compute_cost(theta, x, y) #Almacena en cost y gradient el resultado de la llamada a la función compute_cost \n",
    "        theta = theta - (alpha * gradient) #Actualiza el valor de theta, con el valor de theta anterior menos el producto de alpha por el gradient\n",
    "        costs.append(cost) #Añadimos a la lista costs la variable cost\n",
    "    return theta, costs\n",
    "\n",
    "#Entonces, la función del gradiente queda definida haciendo uso de un bucle, donde costs y theta se van\n",
    "#actualizando con nuevos valores, cada uno con las directrices marcadas, ocmo ya se ha comentado anteriormente\n",
    "\n"
   ]
  },
  {
   "cell_type": "code",
   "execution_count": 126,
   "metadata": {},
   "outputs": [],
   "source": [
    "theta, costs = gradient_descent(X, y, theta_init, 1, 200) #Almacenamos en thetea y costs la función del gradiente anteiormente definida\n",
    "#aplicada a X, y, theta_init, alpha=1 y en 200 iteraciones\n"
   ]
  },
  {
   "cell_type": "code",
   "execution_count": 127,
   "metadata": {},
   "outputs": [
    {
     "name": "stdout",
     "output_type": "stream",
     "text": [
      "Theta after gradient descent: [[1.50850586]\n",
      " [3.5468762 ]\n",
      " [3.29383709]]\n",
      "Resulting cost: 0.20489382036036602\n"
     ]
    }
   ],
   "source": [
    "print(\"Theta after gradient descent:\", theta) #es el valor de theta dspúes de ejecutar la función del descenso del gradiente\n",
    "print(\"Resulting cost:\", costs[-1]) #el resultado del coste"
   ]
  },
  {
   "cell_type": "markdown",
   "metadata": {},
   "source": [
    "## Representación de la convergencia entre la función de coste con el Descenso del Gradiente"
   ]
  },
  {
   "cell_type": "code",
   "execution_count": 128,
   "metadata": {},
   "outputs": [
    {
     "data": {
      "image/png": "[encoded data removed]",
      "text/plain": [
       "<Figure size 432x288 with 1 Axes>"
      ]
     },
     "metadata": {
      "needs_background": "light"
     },
     "output_type": "display_data"
    }
   ],
   "source": [
    "#Representación de la función de coste con el Descenso del Gradiente\n",
    "\n",
    "plt.plot(costs,color='blue') #costs\n",
    "plt.xlabel(\"Iterations\")  #interacciones\n",
    "plt.ylabel(\"$J(\\Theta)$\")  #theta\n",
    "plt.title(\"Values of Cost Function - Gradient Descent\");"
   ]
  },
  {
   "cell_type": "markdown",
   "metadata": {},
   "source": [
    "## Representación de la frontera de decisión"
   ]
  },
  {
   "cell_type": "code",
   "execution_count": 129,
   "metadata": {},
   "outputs": [
    {
     "data": {
      "image/png": "[encoded data removed]",
      "text/plain": [
       "<Figure size 432x288 with 1 Axes>"
      ]
     },
     "metadata": {
      "needs_background": "light"
     },
     "output_type": "display_data"
    }
   ],
   "source": [
    "#al igual que en las primeras gráficas representadas representadas, se representan los\n",
    "#aprobados por un lado y los suspensos por otro con + y x, en verde y rojo\n",
    "sns.scatterplot(x = X[passed[:, 0], 1],\n",
    "                y = X[passed[:, 0], 2],\n",
    "                marker = \"+\",\n",
    "                color = \"green\",\n",
    "                s = 60)\n",
    "ax = sns.scatterplot(x = X[failed[:, 0], 1],\n",
    "                    y = X[failed[:, 0], 2],\n",
    "                    marker = \"X\",\n",
    "                    color = \"red\",\n",
    "                    s = 60)\n",
    "ax.legend([\"Passed\", \"Failed\"]) #nombre de la leyenda\n",
    "ax.set(xlabel=\"Scores-1\", ylabel=\"Scores-2\") #nombres del eje x e y\n",
    "\n",
    "x_boundary = np.array([np.min(X[:, 1]), np.max(X[:, 1])])\n",
    "#Almacenamos un array formado por los valores mínimos y máximos de la columna 2\n",
    "\n",
    "y_boundary = -(theta[0] + theta[1] * x_boundary) / theta[2] #la frontera de y es el resultado de - theta de \n",
    "#Almacenamos un array formado por la suma de la posición 0 y 1 de theta por el producto de x_boundary entre la posición 2 del array theta  \n",
    "sns.lineplot(x = x_boundary, y = y_boundary, color=\"blue\")\n",
    "plt.show(); #plotear"
   ]
  },
  {
   "cell_type": "markdown",
   "metadata": {},
   "source": [
    "## Predicción mediante el uso de los valores optimizados"
   ]
  },
  {
   "cell_type": "code",
   "execution_count": 130,
   "metadata": {},
   "outputs": [],
   "source": [
    "#Se define la función de predicción, formada por los parametros de theta y x\n",
    "#La función devuelve el resultado positivo del producto entre los arrays x y theta\n",
    "\n",
    "def predict(theta, x):\n",
    "    results = x.dot(theta)\n",
    "    return results > 0"
   ]
  },
  {
   "cell_type": "code",
   "execution_count": 131,
   "metadata": {},
   "outputs": [
    {
     "name": "stdout",
     "output_type": "stream",
     "text": [
      "Accuracy: 89 %\n"
     ]
    }
   ],
   "source": [
    "p = predict(theta, X) #Almacenamos en p el resultado de aplicar el método creado\n",
    "print(\"Accuracy:\", sum(p==y)[0],\"%\") #Si p e y son iguales, suma el contenido de la posición 0. El valor se muestra en porcentaje de precisión del modelo de training"
   ]
  },
  {
   "cell_type": "markdown",
   "metadata": {},
   "source": [
    "### Ejemplo introduciendo valores"
   ]
  },
  {
   "cell_type": "code",
   "execution_count": 132,
   "metadata": {},
   "outputs": [
    {
     "name": "stdout",
     "output_type": "stream",
     "text": [
      "A person who scores 50 and 80 on their scores 0.75 probability of passing.\n"
     ]
    }
   ],
   "source": [
    "\n",
    "test = np.array([50,80]) #a la función de test le damos valores a scores-1 y 2 de 40 y 80\n",
    "test = (test - mean_scores)/std_scores #test devuelve el valor obtenido de test - la media de scores, entre la desviación típica\n",
    "test = np.append(np.ones(1), test) #Añadimos una nueva columna a test inicializada con todos sus valores a 1\n",
    "probability = logistic_function(test.dot(theta)) #Llamamos a la función logistic_function pasándole por parámetro el producto entre test y theta\n",
    "print(\"A person who scores 50 and 80 on their scores\",\n",
    "      np.round(probability[0], 2),\"probability of passing.\")\n"
   ]
  },
  {
   "cell_type": "markdown",
   "metadata": {},
   "source": [
    "### Referencias"
   ]
  },
  {
   "cell_type": "markdown",
   "metadata": {},
   "source": [
    "https://www.iartificial.net/gradiente-descendiente-para-aprendizaje-automatico/\n",
    "\n",
    "https://www.tutorialspoint.com/numpy/numpy_dot.htm\n",
    "\n",
    "https://towardsdatascience.com/andrew-ngs-machine-learning-course-in-python-logistic-regression-c0ae25509feb\n",
    "\n",
    "https://github.com/lmntrixsid/Linear-and-Logistic-Regression-with-NumPy-and-Python/blob/master/Logistic_Regression_Completed.ipynb\n",
    "\n",
    "https://towardsdatascience.com/gradient-descent-in-python-a0d07285742f\n",
    "\n",
    "https://towardsdatascience.com/implement-gradient-descent-in-python-9b93ed7108d1\n",
    "\n",
    "https://www.diegocalvo.es/funcion-de-activacion-redes-neuronales/\n",
    "\n",
    "https://www.diegocalvo.es/funcion-de-coste-redes-neuronales/"
   ]
  }
 ],
 "metadata": {
  "kernelspec": {
   "display_name": "DescGrad_env",
   "language": "python",
   "name": "desgrad_env"
  },
  "language_info": {
   "codemirror_mode": {
    "name": "ipython",
    "version": 3
   },
   "file_extension": ".py",
   "mimetype": "text/x-python",
   "name": "python",
   "nbconvert_exporter": "python",
   "pygments_lexer": "ipython3",
   "version": "3.8.5"
  }
 },
 "nbformat": 4,
 "nbformat_minor": 4
}
